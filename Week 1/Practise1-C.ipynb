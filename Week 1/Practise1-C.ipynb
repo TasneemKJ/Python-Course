{
 "cells": [
  {
   "cell_type": "code",
   "execution_count": 1,
   "metadata": {},
   "outputs": [
    {
     "name": "stdout",
     "output_type": "stream",
     "text": [
      "Tempreture Converter.\n",
      "   1. for temperature from Fahrenheit to Celsius\n",
      "   2. for Celsius from Fahrenheit to temperature\n"
     ]
    }
   ],
   "source": [
    "print(\"Tempreture Converter.\")\n",
    "print(\"   1. for temperature from Fahrenheit to Celsius\")\n",
    "print(\"   2. for Celsius from Fahrenheit to temperature\")"
   ]
  },
  {
   "cell_type": "code",
   "execution_count": 4,
   "metadata": {},
   "outputs": [
    {
     "name": "stdout",
     "output_type": "stream",
     "text": [
      "Enter Conversion mode(1 / 2): 1\n",
      "Enter temperature in Fahrenheit: 1\n",
      "Temperature:  1  F =  -17.22222222222222  C\n"
     ]
    }
   ],
   "source": [
    "unit = int(input(\"Enter Conversion mode(1 / 2): \"))\n",
    "if unit == 1 :\n",
    "    fahrenheit = int(input(\"Enter temperature in Fahrenheit: \"))\n",
    "    celsius = (fahrenheit - 32) * 5.0/9.0\n",
    "    print (\"Temperature: \", fahrenheit, \" F = \", celsius, \" C\")\n",
    "else:\n",
    "    celsius = int(input(\"Enter temperature in Celsius: \"))\n",
    "    fahrenheit = 9.0/5.0 * celsius + 32\n",
    "    print(\"Temperature: \", celsius, \" C = \", fahrenheit, \" F\")"
   ]
  },
  {
   "cell_type": "code",
   "execution_count": 2,
   "metadata": {},
   "outputs": [
    {
     "ename": "SyntaxError",
     "evalue": "invalid syntax (<ipython-input-2-45f6ee450f58>, line 1)",
     "output_type": "error",
     "traceback": [
      "\u001b[1;36m  File \u001b[1;32m\"<ipython-input-2-45f6ee450f58>\"\u001b[1;36m, line \u001b[1;32m1\u001b[0m\n\u001b[1;33m    else:\u001b[0m\n\u001b[1;37m       ^\u001b[0m\n\u001b[1;31mSyntaxError\u001b[0m\u001b[1;31m:\u001b[0m invalid syntax\n"
     ]
    }
   ],
   "source": []
  },
  {
   "cell_type": "code",
   "execution_count": null,
   "metadata": {},
   "outputs": [],
   "source": []
  }
 ],
 "metadata": {
  "kernelspec": {
   "display_name": "Python 3",
   "language": "python",
   "name": "python3"
  },
  "language_info": {
   "codemirror_mode": {
    "name": "ipython",
    "version": 3
   },
   "file_extension": ".py",
   "mimetype": "text/x-python",
   "name": "python",
   "nbconvert_exporter": "python",
   "pygments_lexer": "ipython3",
   "version": "3.6.5"
  }
 },
 "nbformat": 4,
 "nbformat_minor": 2
}
