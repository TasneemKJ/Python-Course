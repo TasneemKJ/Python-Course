{
 "cells": [
  {
   "cell_type": "code",
   "execution_count": 3,
   "metadata": {},
   "outputs": [
    {
     "name": "stdout",
     "output_type": "stream",
     "text": [
      "Enter your number: 7\n",
      "2197.995574287564\n"
     ]
    }
   ],
   "source": [
    "from math import pi \n",
    "\n",
    "#x should be of type int if we assumed that x will aleays be of type integer\n",
    "x = int(input(\"Enter your number: \"))\n",
    "\n",
    "if x < -100:\n",
    "    print(-x)\n",
    "elif x <= -25:\n",
    "    print(x ** 4)\n",
    "elif x <= 0:\n",
    "    print(3 * x**2 - 1)\n",
    "elif x <= 100:\n",
    "    print(pi/2 * x + 3 ** x)\n",
    "else:\n",
    "    print(x)"
   ]
  }
 ],
 "metadata": {
  "kernelspec": {
   "display_name": "Python 3",
   "language": "python",
   "name": "python3"
  },
  "language_info": {
   "codemirror_mode": {
    "name": "ipython",
    "version": 3
   },
   "file_extension": ".py",
   "mimetype": "text/x-python",
   "name": "python",
   "nbconvert_exporter": "python",
   "pygments_lexer": "ipython3",
   "version": "3.6.5"
  }
 },
 "nbformat": 4,
 "nbformat_minor": 2
}
