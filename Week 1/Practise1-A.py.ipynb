{
 "cells": [
  {
   "cell_type": "code",
   "execution_count": 1,
   "metadata": {},
   "outputs": [
    {
     "name": "stdout",
     "output_type": "stream",
     "text": [
      "Enter your Name: Tasnim 2\n",
      "First Number: 6\n",
      "Second Number: 3\n",
      "Hi Mr/Mrs Tasnim 2\n"
     ]
    }
   ],
   "source": [
    "name = input(\"Enter your Name: \")\n",
    "first_number = input(\"First Number: \")\n",
    "second_number = input(\"Second Number: \")\n",
    "print(f\"Hi Mr/Mrs {name}\")"
   ]
  },
  {
   "cell_type": "code",
   "execution_count": null,
   "metadata": {},
   "outputs": [],
   "source": []
  },
  {
   "cell_type": "code",
   "execution_count": 3,
   "metadata": {},
   "outputs": [
    {
     "name": "stdout",
     "output_type": "stream",
     "text": [
      "The Sum of 6 and 3 is: 9\n"
     ]
    }
   ],
   "source": [
    "sum = int(first_number) + int(second_number)\n",
    "print(f\"The Sum of {first_number} and {second_number} is: {sum}\")"
   ]
  },
  {
   "cell_type": "code",
   "execution_count": 4,
   "metadata": {},
   "outputs": [
    {
     "name": "stdout",
     "output_type": "stream",
     "text": [
      "The sub of 6 and 3 is: 3\n"
     ]
    }
   ],
   "source": [
    "sub = int(first_number) - int(second_number)\n",
    "print(f\"The sub of {first_number} and {second_number} is: {sub}\")"
   ]
  },
  {
   "cell_type": "code",
   "execution_count": 5,
   "metadata": {},
   "outputs": [
    {
     "name": "stdout",
     "output_type": "stream",
     "text": [
      "The mul of 6 and 3 is: 18\n"
     ]
    }
   ],
   "source": [
    "mul = int(first_number) * int(second_number)\n",
    "print(f\"The mul of {first_number} and {second_number} is: {mul}\")"
   ]
  },
  {
   "cell_type": "code",
   "execution_count": 6,
   "metadata": {},
   "outputs": [
    {
     "name": "stdout",
     "output_type": "stream",
     "text": [
      "The div of 6 over 3 is: 2.0\n"
     ]
    }
   ],
   "source": [
    "div = int(first_number) / int(second_number)\n",
    "print(f\"The div of {first_number} over {second_number} is: {div}\")"
   ]
  },
  {
   "cell_type": "code",
   "execution_count": 8,
   "metadata": {},
   "outputs": [
    {
     "name": "stdout",
     "output_type": "stream",
     "text": [
      "The Remainder of 6 over 3 is: 0\n"
     ]
    }
   ],
   "source": [
    "remainder = int(first_number) % int(second_number)\n",
    "print(f\"The Remainder of {first_number} over {second_number} is: {remainder}\")"
   ]
  },
  {
   "cell_type": "code",
   "execution_count": 12,
   "metadata": {},
   "outputs": [
    {
     "name": "stdout",
     "output_type": "stream",
     "text": [
      "The Exponent of 6 to the power of 3 is: 216\n"
     ]
    }
   ],
   "source": [
    "exponent = int(first_number) ** int(second_number)\n",
    "print(f\"The Exponent of {first_number} to the power of {second_number} is: {exponent}\")"
   ]
  },
  {
   "cell_type": "code",
   "execution_count": null,
   "metadata": {},
   "outputs": [],
   "source": []
  }
 ],
 "metadata": {
  "kernelspec": {
   "display_name": "Python 3",
   "language": "python",
   "name": "python3"
  },
  "language_info": {
   "codemirror_mode": {
    "name": "ipython",
    "version": 3
   },
   "file_extension": ".py",
   "mimetype": "text/x-python",
   "name": "python",
   "nbconvert_exporter": "python",
   "pygments_lexer": "ipython3",
   "version": "3.6.5"
  }
 },
 "nbformat": 4,
 "nbformat_minor": 2
}
