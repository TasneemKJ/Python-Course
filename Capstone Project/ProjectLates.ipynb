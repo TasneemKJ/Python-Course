{
 "cells": [
  {
   "cell_type": "code",
   "execution_count": 1,
   "metadata": {},
   "outputs": [],
   "source": [
    "from googletrans import LANGUAGES\n",
    "def getLangString(lang):\n",
    "    LANGCODES = dict(map(reversed, LANGUAGES.items()))\n",
    "    simbols = list(LANGCODES.values())\n",
    "    strings = list(LANGCODES.keys())\n",
    "    simbolIndex = simbols.index(lang)\n",
    "    langString = strings[simbolIndex]\n",
    "    return langString"
   ]
  },
  {
   "cell_type": "code",
   "execution_count": 2,
   "metadata": {},
   "outputs": [],
   "source": [
    "from googletrans import LANGUAGES\n",
    "def langExists(lang):\n",
    "    LANGCODES = dict(map(reversed, LANGUAGES.items()))\n",
    "    simbols = list(LANGCODES.values())\n",
    "    return lang in simbols"
   ]
  },
  {
   "cell_type": "code",
   "execution_count": 3,
   "metadata": {},
   "outputs": [],
   "source": [
    "import requests\n",
    "def getCountryLang(countryCode):\n",
    "    link = \"https://restcountries.eu/rest/v2/alpha/\" + countryCode\n",
    "    response = requests.get(link).json()\n",
    "    langSimbol = response[\"languages\"][0][\"iso639_1\"]\n",
    "    return langSimbol"
   ]
  },
  {
   "cell_type": "code",
   "execution_count": 4,
   "metadata": {},
   "outputs": [],
   "source": [
    "import requests\n",
    "def getCountryCode():\n",
    "    link = \"http://ip-api.com/json\"\n",
    "    response = requests.get(link).json()\n",
    "    return response['countryCode']"
   ]
  },
  {
   "cell_type": "code",
   "execution_count": 5,
   "metadata": {},
   "outputs": [],
   "source": [
    "def getWords(sentence):\n",
    "    words = sentence.split()\n",
    "    return words"
   ]
  },
  {
   "cell_type": "code",
   "execution_count": 6,
   "metadata": {},
   "outputs": [],
   "source": [
    "from collections import Counter\n",
    "def countWords(sentence):\n",
    "    words = getWords(sentence)\n",
    "    wordCounter = Counter(words)\n",
    "    count = sum(wordCounter.values())\n",
    "    return count"
   ]
  },
  {
   "cell_type": "code",
   "execution_count": 7,
   "metadata": {},
   "outputs": [],
   "source": [
    "from collections import Counter\n",
    "def getUniqueWords(sentence):\n",
    "    words = getWords(sentence)\n",
    "    wordCounter = Counter(words)\n",
    "    uniqueWords = wordCounter.keys()\n",
    "    return uniqueWords"
   ]
  },
  {
   "cell_type": "code",
   "execution_count": 8,
   "metadata": {},
   "outputs": [],
   "source": [
    "def doTranslate(translator, sentence, langFrom, langTo):\n",
    "    trans = translator.translate(sentence, src=langFrom, dest=langTo)\n",
    "    transText = trans.text\n",
    "    return transText"
   ]
  },
  {
   "cell_type": "code",
   "execution_count": 9,
   "metadata": {},
   "outputs": [],
   "source": [
    "def getSentence():\n",
    "    sentence = \":)\"\n",
    "    reenter = True\n",
    "    while reenter:\n",
    "        print(\"Enter the Sentence you want to translate:\")\n",
    "        sentence = input()\n",
    "        print(\"*** *** ***\")\n",
    "        \n",
    "        if sentence.lower() == \"end\":\n",
    "            raise StopIteration\n",
    "    \n",
    "        count = countWords(sentence)\n",
    "        print(\"Sentence has\", count, \"words.\")\n",
    "        if count > 10 :\n",
    "            reenter = True\n",
    "            print(\"Sentence is long!!!\")\n",
    "        else:\n",
    "            reenter = False\n",
    "    return sentence"
   ]
  },
  {
   "cell_type": "code",
   "execution_count": 10,
   "metadata": {},
   "outputs": [
    {
     "name": "stdout",
     "output_type": "stream",
     "text": [
      "*** *** *** *** *** *** *** *** *** *** *** ***\n",
      "Welcome to smartTrans\n",
      "I'm very simple to use, just enter the sentence you want to translate!!!\n",
      "To exit, just enter the word 'End'\n",
      "Good luck :)\n",
      "*** *** *** *** *** *** *** *** *** *** *** ***\n",
      "\n",
      "*** *** *** *** *** *** *** *** *** *** *** ***\n",
      "Detecting Language to translate to...\n",
      "What language(lan code) you want to translate to? ( default is ar ): \n",
      "Hi all\n",
      "Will translate to ar !!!\n",
      "Enter the Sentence you want to translate:\n",
      "Hi all\n",
      "*** *** ***\n",
      "Sentence has 2 words.\n",
      "*** *** ***\n",
      "Detecting language...\n",
      "Detected language is english !!!\n",
      "*** *** ***\n",
      "Translating to arabic ...\n",
      "*** *** ***\n",
      "'Hi all' in arabic is: اهلا بالجميع\n",
      "*** *** ***\n",
      "'Hi' in arabic is: مرحبا\n",
      "'all' in arabic is: الكل\n",
      "*** *** *** *** *** *** *** *** *** *** *** ***\n",
      "\n",
      "Enter the Sentence you want to translate:\n",
      "how are you\n",
      "*** *** ***\n",
      "Sentence has 3 words.\n",
      "Translating to arabic ...\n",
      "*** *** ***\n",
      "'how are you' in arabic is: كيف حالكم\n",
      "*** *** ***\n",
      "'how' in arabic is: ماذا\n",
      "'are' in arabic is: هي\n",
      "'you' in arabic is: أنت\n",
      "*** *** *** *** *** *** *** *** *** *** *** ***\n",
      "\n",
      "Enter the Sentence you want to translate:\n",
      "end\n",
      "*** *** ***\n",
      "*** *** *** *** *** *** *** *** *** *** *** ***\n",
      "Detecting Language to translate to...\n",
      "What language(lan code) you want to translate to? ( default is ar ): \n",
      "end\n",
      "See you :)\n"
     ]
    }
   ],
   "source": [
    "from googletrans import Translator\n",
    "translator = Translator()\n",
    "\n",
    "print(\"*** *** *** *** *** *** *** *** *** *** *** ***\")\n",
    "print(\"Welcome to smartTrans\")\n",
    "print(\"I'm very simple to use, just enter the sentence you want to translate!!!\")\n",
    "print(\"To exit, just enter the word 'End'\")\n",
    "print(\"Good luck :)\")\n",
    "print(\"*** *** *** *** *** *** *** *** *** *** *** ***\\n\")\n",
    "\n",
    "try:\n",
    "    while True :\n",
    "        print(\"*** *** *** *** *** *** *** *** *** *** *** ***\")\n",
    "        print(\"Detecting Language to translate to...\")\n",
    "        langTo = getCountryLang(getCountryCode())\n",
    "        print(\"What language(lan code) you want to translate to? ( default is\", langTo,\"): \")\n",
    "        languageToInput = input()\n",
    "        if languageToInput.lower() == \"end\":\n",
    "            raise StopIteration   \n",
    "        elif langExists(languageToInput):\n",
    "            langTo = languageToInput\n",
    "        else:\n",
    "            print(\"Will translate to\", langTo, \"!!!\")\n",
    "        langToString = getLangString(langTo)\n",
    "\n",
    "        sentence = getSentence()\n",
    "        print(\"*** *** ***\")\n",
    "        print(\"Detecting language...\")\n",
    "        detectedLanguage = translator.detect(sentence)\n",
    "        langFrom = detectedLanguage.lang;\n",
    "        langFromString = getLangString(langFrom)\n",
    "        print(\"Detected language is\", langFromString, \"!!!\")\n",
    "        print(\"*** *** ***\")\n",
    "        \n",
    "        try:\n",
    "            while True :\n",
    "                print(\"Translating to\",langToString,\"...\")\n",
    "                transText = doTranslate(translator, sentence, langFrom, langTo)\n",
    "                print(\"*** *** ***\")\n",
    "                print(\"'\" + sentence + \"'\", \"in\", langToString, \"is:\", transText)\n",
    "                print(\"*** *** ***\")\n",
    "\n",
    "                words = getUniqueWords(sentence)\n",
    "                if len(words) > 1:\n",
    "                    for word in words:\n",
    "                        wordTrans = doTranslate(translator, word, langFrom, langTo)\n",
    "                        print(\"'\" + word + \"'\", \"in\", langToString, \"is:\", wordTrans)\n",
    "                    print(\"*** *** *** *** *** *** *** *** *** *** *** ***\\n\")\n",
    "                sentence = getSentence()\n",
    "        except StopIteration: pass\n",
    "            \n",
    "except StopIteration:\n",
    "    print(\"See you :)\")\n",
    "except:\n",
    "    print(\"Something went wrong !!!\")\n",
    "    print(\"Exiting...\")"
   ]
  }
 ],
 "metadata": {
  "kernelspec": {
   "display_name": "Python 3",
   "language": "python",
   "name": "python3"
  },
  "language_info": {
   "codemirror_mode": {
    "name": "ipython",
    "version": 3
   },
   "file_extension": ".py",
   "mimetype": "text/x-python",
   "name": "python",
   "nbconvert_exporter": "python",
   "pygments_lexer": "ipython3",
   "version": "3.6.5"
  }
 },
 "nbformat": 4,
 "nbformat_minor": 2
}
